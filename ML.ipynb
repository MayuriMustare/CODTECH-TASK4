!pip install numpy pandas scikit-learn matplotlib

import numpy as np
import pandas as pd
from sklearn.model_selection import train_test_split
from sklearn.feature_extraction.text import CountVectorizer
from sklearn.naive_bayes import MultinomialNB
from sklearn.metrics import classification_report, accuracy_score

data = pd.DataFrame({
    'text': [
        "Congratulations! You have won a lottery. Claim your prize now.",
        "Call this number for free credit card rewards.",
        "This is not spam, let's discuss our meeting tomorrow.",
        "Your bank account has been credited with $1000. Click here to claim.",
        "Are you available for the project discussion tomorrow?",
        "Win an iPhone now by participating in this survey.",
        "Reminder: Your appointment is scheduled for 3 PM tomorrow.",
        "Urgent: Your account is locked. Please reset your password.",
        "Good morning! Please find the report attached.",
        "Claim your cash prize by clicking the link below.",
        "Hello! How are you? Can we catch up later?",
        "Congratulations! You’ve won a free vacation trip to Bali.",
        "Don't miss out on this special offer. Buy one, get one free.",
        "Hey, can you send me the project files by tomorrow?",
        "Spam alert! Click this link to update your account information.",
        "It was nice meeting you today. Looking forward to our next meeting.",
        "Congratulations! You’ve won $500 in cash. Claim it here.",
        "Please review the attached report and share your feedback.",
        "Your Amazon package has been shipped. Track your order here.",
        "Win big prizes by entering this lucky draw!",
    ],
    'label': [1, 1, 0, 1, 0, 1, 0, 1, 0, 1, 0, 1, 1, 0, 1, 0, 1, 0, 0, 1]  # 1 = Spam, 0 = Ham
})

data.head()


# Split data into features (X) and labels (y)
X = data['text']  # Features
y = data['label']  # Labels (1 = Spam, 0 = Ham)

# Train-test split (80% training, 20% testing)
X_train, X_test, y_train, y_test = train_test_split(X, y, test_size=0.2, random_state=42)

# Display the distribution of training and testing labels
print("Train labels distribution:\n", y_train.value_counts())
print("Test labels distribution:\n", y_test.value_counts())

# Initialize CountVectorizer
vectorizer = CountVectorizer()

# Fit and transform training data
X_train_transformed = vectorizer.fit_transform(X_train)

# Transform test data
X_test_transformed = vectorizer.transform(X_test)

# Check the number of features
print("Number of features:", X_train_transformed.shape[1])

# Initialize the Naive Bayes model
model = MultinomialNB()

# Train the model
model.fit(X_train_transformed, y_train)


# Make predictions on the test set
y_pred = model.predict(X_test_transformed)

# Calculate accuracy and display results
print("Accuracy:", accuracy_score(y_test, y_pred))
print("\nClassification Report:\n", classification_report(y_test, y_pred))

# Example custom inputs
sample_texts = [
    "Congratulations! You’ve won a free lottery prize!",
    "Hey, are you coming to the meeting tomorrow?",
    "Update your bank details to avoid account suspension.",
    "Let’s grab coffee tomorrow and discuss our plans."
]

# Transform custom inputs
sample_transformed = vectorizer.transform(sample_texts)

# Predict and display results
predictions = model.predict(sample_transformed)
for text, label in zip(sample_texts, predictions):
    print(f"Text: {text} -> {'Spam' if label == 1 else 'Not Spam'}")
